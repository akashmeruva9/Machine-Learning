{
  "cells": [
    {
      "cell_type": "markdown",
      "metadata": {
        "id": "view-in-github",
        "colab_type": "text"
      },
      "source": [
        "<a href=\"https://colab.research.google.com/github/akashmeruva9/Machine-Learning/blob/main/ML_Lab_3.ipynb\" target=\"_parent\"><img src=\"https://colab.research.google.com/assets/colab-badge.svg\" alt=\"Open In Colab\"/></a>"
      ]
    },
    {
      "cell_type": "markdown",
      "id": "e3cc5b0c",
      "metadata": {
        "id": "e3cc5b0c"
      },
      "source": [
        "## Machine Learning Lab -3"
      ]
    },
    {
      "cell_type": "code",
      "execution_count": null,
      "id": "b98b11cf",
      "metadata": {
        "id": "b98b11cf"
      },
      "outputs": [],
      "source": [
        "import pandas as pd\n",
        "import numpy as np"
      ]
    },
    {
      "cell_type": "code",
      "execution_count": null,
      "id": "8736c8a6",
      "metadata": {
        "id": "8736c8a6"
      },
      "outputs": [],
      "source": [
        "import matplotlib.pyplot as plt"
      ]
    },
    {
      "cell_type": "code",
      "execution_count": 6,
      "id": "17962ffc",
      "metadata": {
        "id": "17962ffc"
      },
      "outputs": [],
      "source": [
        "df = pd.read_csv('tips.csv')"
      ]
    },
    {
      "cell_type": "markdown",
      "id": "ddb5ea6a",
      "metadata": {
        "id": "ddb5ea6a"
      },
      "source": [
        "### 1.Read the tips dataset from the provided source only. Handle the missing values with the appropriate techniques."
      ]
    },
    {
      "cell_type": "markdown",
      "id": "543e582c",
      "metadata": {
        "id": "543e582c"
      },
      "source": [
        "### Methods to find missing values of the given dataset"
      ]
    },
    {
      "cell_type": "code",
      "execution_count": 7,
      "id": "290170d0",
      "metadata": {
        "id": "290170d0",
        "outputId": "b5ad5820-6ca5-4792-86c4-648839abd106",
        "colab": {
          "base_uri": "https://localhost:8080/"
        }
      },
      "outputs": [
        {
          "output_type": "execute_result",
          "data": {
            "text/plain": [
              "Unnamed: 0     0\n",
              "total_bill    39\n",
              "tip            0\n",
              "sex            0\n",
              "smoker         0\n",
              "day            0\n",
              "time           0\n",
              "size           0\n",
              "dtype: int64"
            ]
          },
          "metadata": {},
          "execution_count": 7
        }
      ],
      "source": [
        "df.isnull().sum()"
      ]
    },
    {
      "cell_type": "code",
      "execution_count": 8,
      "id": "5af9c80a",
      "metadata": {
        "id": "5af9c80a",
        "outputId": "ca7c5b28-dded-4289-c9fe-71343a9656d6",
        "colab": {
          "base_uri": "https://localhost:8080/"
        }
      },
      "outputs": [
        {
          "output_type": "execute_result",
          "data": {
            "text/plain": [
              "39"
            ]
          },
          "metadata": {},
          "execution_count": 8
        }
      ],
      "source": [
        "df.isnull().sum().sum()"
      ]
    },
    {
      "cell_type": "code",
      "execution_count": 9,
      "id": "44e34939",
      "metadata": {
        "id": "44e34939",
        "outputId": "ef5a1bf4-213b-4aff-953d-379e4438fc9c",
        "colab": {
          "base_uri": "https://localhost:8080/"
        }
      },
      "outputs": [
        {
          "output_type": "execute_result",
          "data": {
            "text/plain": [
              "39"
            ]
          },
          "metadata": {},
          "execution_count": 9
        }
      ],
      "source": [
        "df['total_bill'].isnull().sum()"
      ]
    },
    {
      "cell_type": "code",
      "execution_count": 10,
      "id": "98e8d5ba",
      "metadata": {
        "id": "98e8d5ba",
        "outputId": "41c34e7c-062f-42da-b3f7-c456c37d09bf",
        "colab": {
          "base_uri": "https://localhost:8080/"
        }
      },
      "outputs": [
        {
          "output_type": "execute_result",
          "data": {
            "text/plain": [
              "Unnamed: 0    244\n",
              "total_bill    205\n",
              "tip           244\n",
              "sex           244\n",
              "smoker        244\n",
              "day           244\n",
              "time          244\n",
              "size          244\n",
              "dtype: int64"
            ]
          },
          "metadata": {},
          "execution_count": 10
        }
      ],
      "source": [
        "df.notnull().sum()"
      ]
    },
    {
      "cell_type": "code",
      "execution_count": 11,
      "id": "db9db322",
      "metadata": {
        "id": "db9db322",
        "outputId": "5c424821-6ac6-4fd6-a71d-c20d227abb20",
        "colab": {
          "base_uri": "https://localhost:8080/"
        }
      },
      "outputs": [
        {
          "output_type": "execute_result",
          "data": {
            "text/plain": [
              "1913"
            ]
          },
          "metadata": {},
          "execution_count": 11
        }
      ],
      "source": [
        "df.notnull().sum().sum()"
      ]
    },
    {
      "cell_type": "code",
      "execution_count": 12,
      "id": "046298e4",
      "metadata": {
        "id": "046298e4",
        "outputId": "fe26a195-5eb0-4b18-c0c4-99ac5e8e59df",
        "colab": {
          "base_uri": "https://localhost:8080/"
        }
      },
      "outputs": [
        {
          "output_type": "execute_result",
          "data": {
            "text/plain": [
              "205"
            ]
          },
          "metadata": {},
          "execution_count": 12
        }
      ],
      "source": [
        "df['total_bill'].notnull().sum()"
      ]
    },
    {
      "cell_type": "code",
      "execution_count": 13,
      "id": "22bf6a2c",
      "metadata": {
        "id": "22bf6a2c",
        "outputId": "79b59b6e-039b-468e-8eb7-79b7d11cfc71",
        "colab": {
          "base_uri": "https://localhost:8080/"
        }
      },
      "outputs": [
        {
          "output_type": "stream",
          "name": "stdout",
          "text": [
            "<class 'pandas.core.frame.DataFrame'>\n",
            "RangeIndex: 244 entries, 0 to 243\n",
            "Data columns (total 8 columns):\n",
            " #   Column      Non-Null Count  Dtype  \n",
            "---  ------      --------------  -----  \n",
            " 0   Unnamed: 0  244 non-null    int64  \n",
            " 1   total_bill  205 non-null    float64\n",
            " 2   tip         244 non-null    float64\n",
            " 3   sex         244 non-null    object \n",
            " 4   smoker      244 non-null    object \n",
            " 5   day         244 non-null    object \n",
            " 6   time        244 non-null    object \n",
            " 7   size        244 non-null    int64  \n",
            "dtypes: float64(2), int64(2), object(4)\n",
            "memory usage: 15.4+ KB\n"
          ]
        }
      ],
      "source": [
        "df.info()"
      ]
    },
    {
      "cell_type": "code",
      "execution_count": 14,
      "id": "7f20aeaf",
      "metadata": {
        "id": "7f20aeaf",
        "outputId": "64e69115-cf62-4320-8af1-3ff8e5c3e02c",
        "colab": {
          "base_uri": "https://localhost:8080/"
        }
      },
      "outputs": [
        {
          "output_type": "execute_result",
          "data": {
            "text/plain": [
              "Unnamed: 0     0\n",
              "total_bill    39\n",
              "tip            0\n",
              "sex            0\n",
              "smoker         0\n",
              "day            0\n",
              "time           0\n",
              "size           0\n",
              "dtype: int64"
            ]
          },
          "metadata": {},
          "execution_count": 14
        }
      ],
      "source": [
        "df.isna().sum()"
      ]
    },
    {
      "cell_type": "code",
      "execution_count": 15,
      "id": "9974ef2d",
      "metadata": {
        "id": "9974ef2d",
        "outputId": "e302f376-87ea-4271-d9a5-a6b254f57ffd",
        "colab": {
          "base_uri": "https://localhost:8080/"
        }
      },
      "outputs": [
        {
          "output_type": "execute_result",
          "data": {
            "text/plain": [
              "39"
            ]
          },
          "metadata": {},
          "execution_count": 15
        }
      ],
      "source": [
        "df.isna().sum().sum()"
      ]
    },
    {
      "cell_type": "markdown",
      "id": "648697bc",
      "metadata": {
        "id": "648697bc"
      },
      "source": [
        "### To handle missing values:"
      ]
    },
    {
      "cell_type": "markdown",
      "id": "9870f41a",
      "metadata": {
        "id": "9870f41a"
      },
      "source": [
        "### 1. Mean, median and Mode imputation\n"
      ]
    },
    {
      "cell_type": "code",
      "execution_count": 16,
      "id": "1ece8e12",
      "metadata": {
        "id": "1ece8e12",
        "outputId": "9d8b3116-5a2b-488c-8d25-f3c6ad2c3e6c",
        "colab": {
          "base_uri": "https://localhost:8080/"
        }
      },
      "outputs": [
        {
          "output_type": "execute_result",
          "data": {
            "text/plain": [
              "21.36019512195122"
            ]
          },
          "metadata": {},
          "execution_count": 16
        }
      ],
      "source": [
        "m=df[\"total_bill\"].mean()\n",
        "m"
      ]
    },
    {
      "cell_type": "code",
      "execution_count": 17,
      "id": "e35add65",
      "metadata": {
        "id": "e35add65"
      },
      "outputs": [],
      "source": [
        "df['total_bill']=df['total_bill'].fillna(m)"
      ]
    },
    {
      "cell_type": "code",
      "execution_count": 18,
      "id": "c485e749",
      "metadata": {
        "id": "c485e749",
        "outputId": "388ee6bf-044d-4682-f335-3379d283ebe2",
        "colab": {
          "base_uri": "https://localhost:8080/",
          "height": 206
        }
      },
      "outputs": [
        {
          "output_type": "execute_result",
          "data": {
            "text/plain": [
              "   Unnamed: 0  total_bill   tip     sex smoker  day    time  size\n",
              "0           0   16.990000  1.01  Female     No  Sun  Dinner     2\n",
              "1           1   21.360195  1.66    Male     No  Sun  Dinner     3\n",
              "2           2   21.010000  3.50    Male     No  Sun  Dinner     3\n",
              "3           3   23.680000  3.31    Male     No  Sun  Dinner     2\n",
              "4           4   24.590000  3.61  Female     No  Sun  Dinner     4"
            ],
            "text/html": [
              "\n",
              "  <div id=\"df-ea5814dd-f285-4cec-a651-b86c801c0266\" class=\"colab-df-container\">\n",
              "    <div>\n",
              "<style scoped>\n",
              "    .dataframe tbody tr th:only-of-type {\n",
              "        vertical-align: middle;\n",
              "    }\n",
              "\n",
              "    .dataframe tbody tr th {\n",
              "        vertical-align: top;\n",
              "    }\n",
              "\n",
              "    .dataframe thead th {\n",
              "        text-align: right;\n",
              "    }\n",
              "</style>\n",
              "<table border=\"1\" class=\"dataframe\">\n",
              "  <thead>\n",
              "    <tr style=\"text-align: right;\">\n",
              "      <th></th>\n",
              "      <th>Unnamed: 0</th>\n",
              "      <th>total_bill</th>\n",
              "      <th>tip</th>\n",
              "      <th>sex</th>\n",
              "      <th>smoker</th>\n",
              "      <th>day</th>\n",
              "      <th>time</th>\n",
              "      <th>size</th>\n",
              "    </tr>\n",
              "  </thead>\n",
              "  <tbody>\n",
              "    <tr>\n",
              "      <th>0</th>\n",
              "      <td>0</td>\n",
              "      <td>16.990000</td>\n",
              "      <td>1.01</td>\n",
              "      <td>Female</td>\n",
              "      <td>No</td>\n",
              "      <td>Sun</td>\n",
              "      <td>Dinner</td>\n",
              "      <td>2</td>\n",
              "    </tr>\n",
              "    <tr>\n",
              "      <th>1</th>\n",
              "      <td>1</td>\n",
              "      <td>21.360195</td>\n",
              "      <td>1.66</td>\n",
              "      <td>Male</td>\n",
              "      <td>No</td>\n",
              "      <td>Sun</td>\n",
              "      <td>Dinner</td>\n",
              "      <td>3</td>\n",
              "    </tr>\n",
              "    <tr>\n",
              "      <th>2</th>\n",
              "      <td>2</td>\n",
              "      <td>21.010000</td>\n",
              "      <td>3.50</td>\n",
              "      <td>Male</td>\n",
              "      <td>No</td>\n",
              "      <td>Sun</td>\n",
              "      <td>Dinner</td>\n",
              "      <td>3</td>\n",
              "    </tr>\n",
              "    <tr>\n",
              "      <th>3</th>\n",
              "      <td>3</td>\n",
              "      <td>23.680000</td>\n",
              "      <td>3.31</td>\n",
              "      <td>Male</td>\n",
              "      <td>No</td>\n",
              "      <td>Sun</td>\n",
              "      <td>Dinner</td>\n",
              "      <td>2</td>\n",
              "    </tr>\n",
              "    <tr>\n",
              "      <th>4</th>\n",
              "      <td>4</td>\n",
              "      <td>24.590000</td>\n",
              "      <td>3.61</td>\n",
              "      <td>Female</td>\n",
              "      <td>No</td>\n",
              "      <td>Sun</td>\n",
              "      <td>Dinner</td>\n",
              "      <td>4</td>\n",
              "    </tr>\n",
              "  </tbody>\n",
              "</table>\n",
              "</div>\n",
              "    <div class=\"colab-df-buttons\">\n",
              "\n",
              "  <div class=\"colab-df-container\">\n",
              "    <button class=\"colab-df-convert\" onclick=\"convertToInteractive('df-ea5814dd-f285-4cec-a651-b86c801c0266')\"\n",
              "            title=\"Convert this dataframe to an interactive table.\"\n",
              "            style=\"display:none;\">\n",
              "\n",
              "  <svg xmlns=\"http://www.w3.org/2000/svg\" height=\"24px\" viewBox=\"0 -960 960 960\">\n",
              "    <path d=\"M120-120v-720h720v720H120Zm60-500h600v-160H180v160Zm220 220h160v-160H400v160Zm0 220h160v-160H400v160ZM180-400h160v-160H180v160Zm440 0h160v-160H620v160ZM180-180h160v-160H180v160Zm440 0h160v-160H620v160Z\"/>\n",
              "  </svg>\n",
              "    </button>\n",
              "\n",
              "  <style>\n",
              "    .colab-df-container {\n",
              "      display:flex;\n",
              "      gap: 12px;\n",
              "    }\n",
              "\n",
              "    .colab-df-convert {\n",
              "      background-color: #E8F0FE;\n",
              "      border: none;\n",
              "      border-radius: 50%;\n",
              "      cursor: pointer;\n",
              "      display: none;\n",
              "      fill: #1967D2;\n",
              "      height: 32px;\n",
              "      padding: 0 0 0 0;\n",
              "      width: 32px;\n",
              "    }\n",
              "\n",
              "    .colab-df-convert:hover {\n",
              "      background-color: #E2EBFA;\n",
              "      box-shadow: 0px 1px 2px rgba(60, 64, 67, 0.3), 0px 1px 3px 1px rgba(60, 64, 67, 0.15);\n",
              "      fill: #174EA6;\n",
              "    }\n",
              "\n",
              "    .colab-df-buttons div {\n",
              "      margin-bottom: 4px;\n",
              "    }\n",
              "\n",
              "    [theme=dark] .colab-df-convert {\n",
              "      background-color: #3B4455;\n",
              "      fill: #D2E3FC;\n",
              "    }\n",
              "\n",
              "    [theme=dark] .colab-df-convert:hover {\n",
              "      background-color: #434B5C;\n",
              "      box-shadow: 0px 1px 3px 1px rgba(0, 0, 0, 0.15);\n",
              "      filter: drop-shadow(0px 1px 2px rgba(0, 0, 0, 0.3));\n",
              "      fill: #FFFFFF;\n",
              "    }\n",
              "  </style>\n",
              "\n",
              "    <script>\n",
              "      const buttonEl =\n",
              "        document.querySelector('#df-ea5814dd-f285-4cec-a651-b86c801c0266 button.colab-df-convert');\n",
              "      buttonEl.style.display =\n",
              "        google.colab.kernel.accessAllowed ? 'block' : 'none';\n",
              "\n",
              "      async function convertToInteractive(key) {\n",
              "        const element = document.querySelector('#df-ea5814dd-f285-4cec-a651-b86c801c0266');\n",
              "        const dataTable =\n",
              "          await google.colab.kernel.invokeFunction('convertToInteractive',\n",
              "                                                    [key], {});\n",
              "        if (!dataTable) return;\n",
              "\n",
              "        const docLinkHtml = 'Like what you see? Visit the ' +\n",
              "          '<a target=\"_blank\" href=https://colab.research.google.com/notebooks/data_table.ipynb>data table notebook</a>'\n",
              "          + ' to learn more about interactive tables.';\n",
              "        element.innerHTML = '';\n",
              "        dataTable['output_type'] = 'display_data';\n",
              "        await google.colab.output.renderOutput(dataTable, element);\n",
              "        const docLink = document.createElement('div');\n",
              "        docLink.innerHTML = docLinkHtml;\n",
              "        element.appendChild(docLink);\n",
              "      }\n",
              "    </script>\n",
              "  </div>\n",
              "\n",
              "\n",
              "<div id=\"df-ba378897-6102-4b19-ad51-f5d7d3fea3bf\">\n",
              "  <button class=\"colab-df-quickchart\" onclick=\"quickchart('df-ba378897-6102-4b19-ad51-f5d7d3fea3bf')\"\n",
              "            title=\"Suggest charts\"\n",
              "            style=\"display:none;\">\n",
              "\n",
              "<svg xmlns=\"http://www.w3.org/2000/svg\" height=\"24px\"viewBox=\"0 0 24 24\"\n",
              "     width=\"24px\">\n",
              "    <g>\n",
              "        <path d=\"M19 3H5c-1.1 0-2 .9-2 2v14c0 1.1.9 2 2 2h14c1.1 0 2-.9 2-2V5c0-1.1-.9-2-2-2zM9 17H7v-7h2v7zm4 0h-2V7h2v10zm4 0h-2v-4h2v4z\"/>\n",
              "    </g>\n",
              "</svg>\n",
              "  </button>\n",
              "\n",
              "<style>\n",
              "  .colab-df-quickchart {\n",
              "      --bg-color: #E8F0FE;\n",
              "      --fill-color: #1967D2;\n",
              "      --hover-bg-color: #E2EBFA;\n",
              "      --hover-fill-color: #174EA6;\n",
              "      --disabled-fill-color: #AAA;\n",
              "      --disabled-bg-color: #DDD;\n",
              "  }\n",
              "\n",
              "  [theme=dark] .colab-df-quickchart {\n",
              "      --bg-color: #3B4455;\n",
              "      --fill-color: #D2E3FC;\n",
              "      --hover-bg-color: #434B5C;\n",
              "      --hover-fill-color: #FFFFFF;\n",
              "      --disabled-bg-color: #3B4455;\n",
              "      --disabled-fill-color: #666;\n",
              "  }\n",
              "\n",
              "  .colab-df-quickchart {\n",
              "    background-color: var(--bg-color);\n",
              "    border: none;\n",
              "    border-radius: 50%;\n",
              "    cursor: pointer;\n",
              "    display: none;\n",
              "    fill: var(--fill-color);\n",
              "    height: 32px;\n",
              "    padding: 0;\n",
              "    width: 32px;\n",
              "  }\n",
              "\n",
              "  .colab-df-quickchart:hover {\n",
              "    background-color: var(--hover-bg-color);\n",
              "    box-shadow: 0 1px 2px rgba(60, 64, 67, 0.3), 0 1px 3px 1px rgba(60, 64, 67, 0.15);\n",
              "    fill: var(--button-hover-fill-color);\n",
              "  }\n",
              "\n",
              "  .colab-df-quickchart-complete:disabled,\n",
              "  .colab-df-quickchart-complete:disabled:hover {\n",
              "    background-color: var(--disabled-bg-color);\n",
              "    fill: var(--disabled-fill-color);\n",
              "    box-shadow: none;\n",
              "  }\n",
              "\n",
              "  .colab-df-spinner {\n",
              "    border: 2px solid var(--fill-color);\n",
              "    border-color: transparent;\n",
              "    border-bottom-color: var(--fill-color);\n",
              "    animation:\n",
              "      spin 1s steps(1) infinite;\n",
              "  }\n",
              "\n",
              "  @keyframes spin {\n",
              "    0% {\n",
              "      border-color: transparent;\n",
              "      border-bottom-color: var(--fill-color);\n",
              "      border-left-color: var(--fill-color);\n",
              "    }\n",
              "    20% {\n",
              "      border-color: transparent;\n",
              "      border-left-color: var(--fill-color);\n",
              "      border-top-color: var(--fill-color);\n",
              "    }\n",
              "    30% {\n",
              "      border-color: transparent;\n",
              "      border-left-color: var(--fill-color);\n",
              "      border-top-color: var(--fill-color);\n",
              "      border-right-color: var(--fill-color);\n",
              "    }\n",
              "    40% {\n",
              "      border-color: transparent;\n",
              "      border-right-color: var(--fill-color);\n",
              "      border-top-color: var(--fill-color);\n",
              "    }\n",
              "    60% {\n",
              "      border-color: transparent;\n",
              "      border-right-color: var(--fill-color);\n",
              "    }\n",
              "    80% {\n",
              "      border-color: transparent;\n",
              "      border-right-color: var(--fill-color);\n",
              "      border-bottom-color: var(--fill-color);\n",
              "    }\n",
              "    90% {\n",
              "      border-color: transparent;\n",
              "      border-bottom-color: var(--fill-color);\n",
              "    }\n",
              "  }\n",
              "</style>\n",
              "\n",
              "  <script>\n",
              "    async function quickchart(key) {\n",
              "      const quickchartButtonEl =\n",
              "        document.querySelector('#' + key + ' button');\n",
              "      quickchartButtonEl.disabled = true;  // To prevent multiple clicks.\n",
              "      quickchartButtonEl.classList.add('colab-df-spinner');\n",
              "      try {\n",
              "        const charts = await google.colab.kernel.invokeFunction(\n",
              "            'suggestCharts', [key], {});\n",
              "      } catch (error) {\n",
              "        console.error('Error during call to suggestCharts:', error);\n",
              "      }\n",
              "      quickchartButtonEl.classList.remove('colab-df-spinner');\n",
              "      quickchartButtonEl.classList.add('colab-df-quickchart-complete');\n",
              "    }\n",
              "    (() => {\n",
              "      let quickchartButtonEl =\n",
              "        document.querySelector('#df-ba378897-6102-4b19-ad51-f5d7d3fea3bf button');\n",
              "      quickchartButtonEl.style.display =\n",
              "        google.colab.kernel.accessAllowed ? 'block' : 'none';\n",
              "    })();\n",
              "  </script>\n",
              "</div>\n",
              "\n",
              "    </div>\n",
              "  </div>\n"
            ]
          },
          "metadata": {},
          "execution_count": 18
        }
      ],
      "source": [
        "df.head()"
      ]
    },
    {
      "cell_type": "code",
      "execution_count": 19,
      "id": "83d594da",
      "metadata": {
        "id": "83d594da",
        "outputId": "531be6c9-bb1e-44f0-efa3-ee3035fe4d23",
        "colab": {
          "base_uri": "https://localhost:8080/"
        }
      },
      "outputs": [
        {
          "output_type": "execute_result",
          "data": {
            "text/plain": [
              "20.965000000000003"
            ]
          },
          "metadata": {},
          "execution_count": 19
        }
      ],
      "source": [
        "m=df[\"total_bill\"].median()\n",
        "m"
      ]
    },
    {
      "cell_type": "code",
      "execution_count": 20,
      "id": "65cb455f",
      "metadata": {
        "id": "65cb455f"
      },
      "outputs": [],
      "source": [
        "df['total_bill']=df['total_bill'].fillna(m)"
      ]
    },
    {
      "cell_type": "code",
      "execution_count": null,
      "id": "5cd8ccf3",
      "metadata": {
        "scrolled": true,
        "id": "5cd8ccf3",
        "outputId": "76169d4f-7dbd-4a19-b562-bde903c6c51c"
      },
      "outputs": [
        {
          "data": {
            "text/html": [
              "<div>\n",
              "<style scoped>\n",
              "    .dataframe tbody tr th:only-of-type {\n",
              "        vertical-align: middle;\n",
              "    }\n",
              "\n",
              "    .dataframe tbody tr th {\n",
              "        vertical-align: top;\n",
              "    }\n",
              "\n",
              "    .dataframe thead th {\n",
              "        text-align: right;\n",
              "    }\n",
              "</style>\n",
              "<table border=\"1\" class=\"dataframe\">\n",
              "  <thead>\n",
              "    <tr style=\"text-align: right;\">\n",
              "      <th></th>\n",
              "      <th>Unnamed: 0</th>\n",
              "      <th>total_bill</th>\n",
              "      <th>tip</th>\n",
              "      <th>sex</th>\n",
              "      <th>smoker</th>\n",
              "      <th>day</th>\n",
              "      <th>time</th>\n",
              "      <th>size</th>\n",
              "    </tr>\n",
              "  </thead>\n",
              "  <tbody>\n",
              "    <tr>\n",
              "      <th>0</th>\n",
              "      <td>0</td>\n",
              "      <td>16.990000</td>\n",
              "      <td>1.01</td>\n",
              "      <td>Female</td>\n",
              "      <td>No</td>\n",
              "      <td>Sun</td>\n",
              "      <td>Dinner</td>\n",
              "      <td>2</td>\n",
              "    </tr>\n",
              "    <tr>\n",
              "      <th>1</th>\n",
              "      <td>1</td>\n",
              "      <td>21.360195</td>\n",
              "      <td>1.66</td>\n",
              "      <td>Male</td>\n",
              "      <td>No</td>\n",
              "      <td>Sun</td>\n",
              "      <td>Dinner</td>\n",
              "      <td>3</td>\n",
              "    </tr>\n",
              "    <tr>\n",
              "      <th>2</th>\n",
              "      <td>2</td>\n",
              "      <td>21.010000</td>\n",
              "      <td>3.50</td>\n",
              "      <td>Male</td>\n",
              "      <td>No</td>\n",
              "      <td>Sun</td>\n",
              "      <td>Dinner</td>\n",
              "      <td>3</td>\n",
              "    </tr>\n",
              "    <tr>\n",
              "      <th>3</th>\n",
              "      <td>3</td>\n",
              "      <td>23.680000</td>\n",
              "      <td>3.31</td>\n",
              "      <td>Male</td>\n",
              "      <td>No</td>\n",
              "      <td>Sun</td>\n",
              "      <td>Dinner</td>\n",
              "      <td>2</td>\n",
              "    </tr>\n",
              "    <tr>\n",
              "      <th>4</th>\n",
              "      <td>4</td>\n",
              "      <td>24.590000</td>\n",
              "      <td>3.61</td>\n",
              "      <td>Female</td>\n",
              "      <td>No</td>\n",
              "      <td>Sun</td>\n",
              "      <td>Dinner</td>\n",
              "      <td>4</td>\n",
              "    </tr>\n",
              "  </tbody>\n",
              "</table>\n",
              "</div>"
            ],
            "text/plain": [
              "   Unnamed: 0  total_bill   tip     sex smoker  day    time  size\n",
              "0           0   16.990000  1.01  Female     No  Sun  Dinner     2\n",
              "1           1   21.360195  1.66    Male     No  Sun  Dinner     3\n",
              "2           2   21.010000  3.50    Male     No  Sun  Dinner     3\n",
              "3           3   23.680000  3.31    Male     No  Sun  Dinner     2\n",
              "4           4   24.590000  3.61  Female     No  Sun  Dinner     4"
            ]
          },
          "execution_count": 24,
          "metadata": {},
          "output_type": "execute_result"
        }
      ],
      "source": [
        "df.head()"
      ]
    },
    {
      "cell_type": "code",
      "execution_count": 21,
      "id": "7f01d719",
      "metadata": {
        "id": "7f01d719",
        "outputId": "431e28c4-6e14-48e0-b67c-a7cf33e4d23f",
        "colab": {
          "base_uri": "https://localhost:8080/"
        }
      },
      "outputs": [
        {
          "output_type": "execute_result",
          "data": {
            "text/plain": [
              "0    21.360195\n",
              "Name: total_bill, dtype: float64"
            ]
          },
          "metadata": {},
          "execution_count": 21
        }
      ],
      "source": [
        "m=df[\"total_bill\"].mode()\n",
        "m"
      ]
    },
    {
      "cell_type": "code",
      "execution_count": 22,
      "id": "41fb5fb0",
      "metadata": {
        "id": "41fb5fb0"
      },
      "outputs": [],
      "source": [
        "df['total_bill']=df['total_bill'].fillna(m)"
      ]
    },
    {
      "cell_type": "code",
      "execution_count": 23,
      "id": "3534479b",
      "metadata": {
        "id": "3534479b",
        "outputId": "4bba76da-022a-4c05-868e-5b246780c1dc",
        "colab": {
          "base_uri": "https://localhost:8080/",
          "height": 206
        }
      },
      "outputs": [
        {
          "output_type": "execute_result",
          "data": {
            "text/plain": [
              "   Unnamed: 0  total_bill   tip     sex smoker  day    time  size\n",
              "0           0   16.990000  1.01  Female     No  Sun  Dinner     2\n",
              "1           1   21.360195  1.66    Male     No  Sun  Dinner     3\n",
              "2           2   21.010000  3.50    Male     No  Sun  Dinner     3\n",
              "3           3   23.680000  3.31    Male     No  Sun  Dinner     2\n",
              "4           4   24.590000  3.61  Female     No  Sun  Dinner     4"
            ],
            "text/html": [
              "\n",
              "  <div id=\"df-2fd71be2-262f-4158-a09c-be7c8de53d83\" class=\"colab-df-container\">\n",
              "    <div>\n",
              "<style scoped>\n",
              "    .dataframe tbody tr th:only-of-type {\n",
              "        vertical-align: middle;\n",
              "    }\n",
              "\n",
              "    .dataframe tbody tr th {\n",
              "        vertical-align: top;\n",
              "    }\n",
              "\n",
              "    .dataframe thead th {\n",
              "        text-align: right;\n",
              "    }\n",
              "</style>\n",
              "<table border=\"1\" class=\"dataframe\">\n",
              "  <thead>\n",
              "    <tr style=\"text-align: right;\">\n",
              "      <th></th>\n",
              "      <th>Unnamed: 0</th>\n",
              "      <th>total_bill</th>\n",
              "      <th>tip</th>\n",
              "      <th>sex</th>\n",
              "      <th>smoker</th>\n",
              "      <th>day</th>\n",
              "      <th>time</th>\n",
              "      <th>size</th>\n",
              "    </tr>\n",
              "  </thead>\n",
              "  <tbody>\n",
              "    <tr>\n",
              "      <th>0</th>\n",
              "      <td>0</td>\n",
              "      <td>16.990000</td>\n",
              "      <td>1.01</td>\n",
              "      <td>Female</td>\n",
              "      <td>No</td>\n",
              "      <td>Sun</td>\n",
              "      <td>Dinner</td>\n",
              "      <td>2</td>\n",
              "    </tr>\n",
              "    <tr>\n",
              "      <th>1</th>\n",
              "      <td>1</td>\n",
              "      <td>21.360195</td>\n",
              "      <td>1.66</td>\n",
              "      <td>Male</td>\n",
              "      <td>No</td>\n",
              "      <td>Sun</td>\n",
              "      <td>Dinner</td>\n",
              "      <td>3</td>\n",
              "    </tr>\n",
              "    <tr>\n",
              "      <th>2</th>\n",
              "      <td>2</td>\n",
              "      <td>21.010000</td>\n",
              "      <td>3.50</td>\n",
              "      <td>Male</td>\n",
              "      <td>No</td>\n",
              "      <td>Sun</td>\n",
              "      <td>Dinner</td>\n",
              "      <td>3</td>\n",
              "    </tr>\n",
              "    <tr>\n",
              "      <th>3</th>\n",
              "      <td>3</td>\n",
              "      <td>23.680000</td>\n",
              "      <td>3.31</td>\n",
              "      <td>Male</td>\n",
              "      <td>No</td>\n",
              "      <td>Sun</td>\n",
              "      <td>Dinner</td>\n",
              "      <td>2</td>\n",
              "    </tr>\n",
              "    <tr>\n",
              "      <th>4</th>\n",
              "      <td>4</td>\n",
              "      <td>24.590000</td>\n",
              "      <td>3.61</td>\n",
              "      <td>Female</td>\n",
              "      <td>No</td>\n",
              "      <td>Sun</td>\n",
              "      <td>Dinner</td>\n",
              "      <td>4</td>\n",
              "    </tr>\n",
              "  </tbody>\n",
              "</table>\n",
              "</div>\n",
              "    <div class=\"colab-df-buttons\">\n",
              "\n",
              "  <div class=\"colab-df-container\">\n",
              "    <button class=\"colab-df-convert\" onclick=\"convertToInteractive('df-2fd71be2-262f-4158-a09c-be7c8de53d83')\"\n",
              "            title=\"Convert this dataframe to an interactive table.\"\n",
              "            style=\"display:none;\">\n",
              "\n",
              "  <svg xmlns=\"http://www.w3.org/2000/svg\" height=\"24px\" viewBox=\"0 -960 960 960\">\n",
              "    <path d=\"M120-120v-720h720v720H120Zm60-500h600v-160H180v160Zm220 220h160v-160H400v160Zm0 220h160v-160H400v160ZM180-400h160v-160H180v160Zm440 0h160v-160H620v160ZM180-180h160v-160H180v160Zm440 0h160v-160H620v160Z\"/>\n",
              "  </svg>\n",
              "    </button>\n",
              "\n",
              "  <style>\n",
              "    .colab-df-container {\n",
              "      display:flex;\n",
              "      gap: 12px;\n",
              "    }\n",
              "\n",
              "    .colab-df-convert {\n",
              "      background-color: #E8F0FE;\n",
              "      border: none;\n",
              "      border-radius: 50%;\n",
              "      cursor: pointer;\n",
              "      display: none;\n",
              "      fill: #1967D2;\n",
              "      height: 32px;\n",
              "      padding: 0 0 0 0;\n",
              "      width: 32px;\n",
              "    }\n",
              "\n",
              "    .colab-df-convert:hover {\n",
              "      background-color: #E2EBFA;\n",
              "      box-shadow: 0px 1px 2px rgba(60, 64, 67, 0.3), 0px 1px 3px 1px rgba(60, 64, 67, 0.15);\n",
              "      fill: #174EA6;\n",
              "    }\n",
              "\n",
              "    .colab-df-buttons div {\n",
              "      margin-bottom: 4px;\n",
              "    }\n",
              "\n",
              "    [theme=dark] .colab-df-convert {\n",
              "      background-color: #3B4455;\n",
              "      fill: #D2E3FC;\n",
              "    }\n",
              "\n",
              "    [theme=dark] .colab-df-convert:hover {\n",
              "      background-color: #434B5C;\n",
              "      box-shadow: 0px 1px 3px 1px rgba(0, 0, 0, 0.15);\n",
              "      filter: drop-shadow(0px 1px 2px rgba(0, 0, 0, 0.3));\n",
              "      fill: #FFFFFF;\n",
              "    }\n",
              "  </style>\n",
              "\n",
              "    <script>\n",
              "      const buttonEl =\n",
              "        document.querySelector('#df-2fd71be2-262f-4158-a09c-be7c8de53d83 button.colab-df-convert');\n",
              "      buttonEl.style.display =\n",
              "        google.colab.kernel.accessAllowed ? 'block' : 'none';\n",
              "\n",
              "      async function convertToInteractive(key) {\n",
              "        const element = document.querySelector('#df-2fd71be2-262f-4158-a09c-be7c8de53d83');\n",
              "        const dataTable =\n",
              "          await google.colab.kernel.invokeFunction('convertToInteractive',\n",
              "                                                    [key], {});\n",
              "        if (!dataTable) return;\n",
              "\n",
              "        const docLinkHtml = 'Like what you see? Visit the ' +\n",
              "          '<a target=\"_blank\" href=https://colab.research.google.com/notebooks/data_table.ipynb>data table notebook</a>'\n",
              "          + ' to learn more about interactive tables.';\n",
              "        element.innerHTML = '';\n",
              "        dataTable['output_type'] = 'display_data';\n",
              "        await google.colab.output.renderOutput(dataTable, element);\n",
              "        const docLink = document.createElement('div');\n",
              "        docLink.innerHTML = docLinkHtml;\n",
              "        element.appendChild(docLink);\n",
              "      }\n",
              "    </script>\n",
              "  </div>\n",
              "\n",
              "\n",
              "<div id=\"df-7be66e8f-64ea-4473-b3bd-8c4d5d174a60\">\n",
              "  <button class=\"colab-df-quickchart\" onclick=\"quickchart('df-7be66e8f-64ea-4473-b3bd-8c4d5d174a60')\"\n",
              "            title=\"Suggest charts\"\n",
              "            style=\"display:none;\">\n",
              "\n",
              "<svg xmlns=\"http://www.w3.org/2000/svg\" height=\"24px\"viewBox=\"0 0 24 24\"\n",
              "     width=\"24px\">\n",
              "    <g>\n",
              "        <path d=\"M19 3H5c-1.1 0-2 .9-2 2v14c0 1.1.9 2 2 2h14c1.1 0 2-.9 2-2V5c0-1.1-.9-2-2-2zM9 17H7v-7h2v7zm4 0h-2V7h2v10zm4 0h-2v-4h2v4z\"/>\n",
              "    </g>\n",
              "</svg>\n",
              "  </button>\n",
              "\n",
              "<style>\n",
              "  .colab-df-quickchart {\n",
              "      --bg-color: #E8F0FE;\n",
              "      --fill-color: #1967D2;\n",
              "      --hover-bg-color: #E2EBFA;\n",
              "      --hover-fill-color: #174EA6;\n",
              "      --disabled-fill-color: #AAA;\n",
              "      --disabled-bg-color: #DDD;\n",
              "  }\n",
              "\n",
              "  [theme=dark] .colab-df-quickchart {\n",
              "      --bg-color: #3B4455;\n",
              "      --fill-color: #D2E3FC;\n",
              "      --hover-bg-color: #434B5C;\n",
              "      --hover-fill-color: #FFFFFF;\n",
              "      --disabled-bg-color: #3B4455;\n",
              "      --disabled-fill-color: #666;\n",
              "  }\n",
              "\n",
              "  .colab-df-quickchart {\n",
              "    background-color: var(--bg-color);\n",
              "    border: none;\n",
              "    border-radius: 50%;\n",
              "    cursor: pointer;\n",
              "    display: none;\n",
              "    fill: var(--fill-color);\n",
              "    height: 32px;\n",
              "    padding: 0;\n",
              "    width: 32px;\n",
              "  }\n",
              "\n",
              "  .colab-df-quickchart:hover {\n",
              "    background-color: var(--hover-bg-color);\n",
              "    box-shadow: 0 1px 2px rgba(60, 64, 67, 0.3), 0 1px 3px 1px rgba(60, 64, 67, 0.15);\n",
              "    fill: var(--button-hover-fill-color);\n",
              "  }\n",
              "\n",
              "  .colab-df-quickchart-complete:disabled,\n",
              "  .colab-df-quickchart-complete:disabled:hover {\n",
              "    background-color: var(--disabled-bg-color);\n",
              "    fill: var(--disabled-fill-color);\n",
              "    box-shadow: none;\n",
              "  }\n",
              "\n",
              "  .colab-df-spinner {\n",
              "    border: 2px solid var(--fill-color);\n",
              "    border-color: transparent;\n",
              "    border-bottom-color: var(--fill-color);\n",
              "    animation:\n",
              "      spin 1s steps(1) infinite;\n",
              "  }\n",
              "\n",
              "  @keyframes spin {\n",
              "    0% {\n",
              "      border-color: transparent;\n",
              "      border-bottom-color: var(--fill-color);\n",
              "      border-left-color: var(--fill-color);\n",
              "    }\n",
              "    20% {\n",
              "      border-color: transparent;\n",
              "      border-left-color: var(--fill-color);\n",
              "      border-top-color: var(--fill-color);\n",
              "    }\n",
              "    30% {\n",
              "      border-color: transparent;\n",
              "      border-left-color: var(--fill-color);\n",
              "      border-top-color: var(--fill-color);\n",
              "      border-right-color: var(--fill-color);\n",
              "    }\n",
              "    40% {\n",
              "      border-color: transparent;\n",
              "      border-right-color: var(--fill-color);\n",
              "      border-top-color: var(--fill-color);\n",
              "    }\n",
              "    60% {\n",
              "      border-color: transparent;\n",
              "      border-right-color: var(--fill-color);\n",
              "    }\n",
              "    80% {\n",
              "      border-color: transparent;\n",
              "      border-right-color: var(--fill-color);\n",
              "      border-bottom-color: var(--fill-color);\n",
              "    }\n",
              "    90% {\n",
              "      border-color: transparent;\n",
              "      border-bottom-color: var(--fill-color);\n",
              "    }\n",
              "  }\n",
              "</style>\n",
              "\n",
              "  <script>\n",
              "    async function quickchart(key) {\n",
              "      const quickchartButtonEl =\n",
              "        document.querySelector('#' + key + ' button');\n",
              "      quickchartButtonEl.disabled = true;  // To prevent multiple clicks.\n",
              "      quickchartButtonEl.classList.add('colab-df-spinner');\n",
              "      try {\n",
              "        const charts = await google.colab.kernel.invokeFunction(\n",
              "            'suggestCharts', [key], {});\n",
              "      } catch (error) {\n",
              "        console.error('Error during call to suggestCharts:', error);\n",
              "      }\n",
              "      quickchartButtonEl.classList.remove('colab-df-spinner');\n",
              "      quickchartButtonEl.classList.add('colab-df-quickchart-complete');\n",
              "    }\n",
              "    (() => {\n",
              "      let quickchartButtonEl =\n",
              "        document.querySelector('#df-7be66e8f-64ea-4473-b3bd-8c4d5d174a60 button');\n",
              "      quickchartButtonEl.style.display =\n",
              "        google.colab.kernel.accessAllowed ? 'block' : 'none';\n",
              "    })();\n",
              "  </script>\n",
              "</div>\n",
              "\n",
              "    </div>\n",
              "  </div>\n"
            ]
          },
          "metadata": {},
          "execution_count": 23
        }
      ],
      "source": [
        "df.head()"
      ]
    },
    {
      "cell_type": "markdown",
      "id": "1e9d91f7",
      "metadata": {
        "id": "1e9d91f7"
      },
      "source": [
        "### 2.Handle the categorical data in the tips dataset with the relevant approaches such as label-encoding, one hot encoding, ordinal encoding."
      ]
    },
    {
      "cell_type": "code",
      "execution_count": 24,
      "id": "e3e77965",
      "metadata": {
        "scrolled": true,
        "id": "e3e77965",
        "outputId": "41d37fdf-323b-4d34-933b-1cb28a95d6da",
        "colab": {
          "base_uri": "https://localhost:8080/"
        }
      },
      "outputs": [
        {
          "output_type": "stream",
          "name": "stdout",
          "text": [
            "Unnamed: 0 : 244 labels\n",
            "total_bill : 195 labels\n",
            "tip : 123 labels\n",
            "sex : 2 labels\n",
            "smoker : 2 labels\n",
            "day : 4 labels\n",
            "time : 2 labels\n",
            "size : 6 labels\n"
          ]
        }
      ],
      "source": [
        "for col in df.columns:\n",
        "    print(col,\":\", len(df[col].unique()), 'labels')"
      ]
    },
    {
      "cell_type": "markdown",
      "id": "724e8644",
      "metadata": {
        "id": "724e8644"
      },
      "source": [
        "### OneHotEncoder"
      ]
    },
    {
      "cell_type": "markdown",
      "id": "0d6e18e6",
      "metadata": {
        "id": "0d6e18e6"
      },
      "source": [
        "* Representation of Categorical Variables: One-Hot Encoding is a technique used to convert categorical variables into a binary representation, where each category is represented by a binary vector. In the binary vector, only one bit is \"hot\" (set to 1), representing the presence of that category, while all other bits are \"cold\" (set to 0).\n",
        "\n",
        "* Avoiding Implicit Ordinality: One-Hot Encoding is particularly useful when dealing with categorical variables where there is no inherent order or hierarchy among the categories. It ensures that the model does not interpret the encoded categories as having any ordinal relationship, thus avoiding any implicit assumptions about the importance or hierarchy of the categories."
      ]
    },
    {
      "cell_type": "code",
      "execution_count": 25,
      "id": "b5e87faf",
      "metadata": {
        "id": "b5e87faf",
        "outputId": "c2e76953-1d5c-4e81-9862-d22cd9e2b4e7",
        "colab": {
          "base_uri": "https://localhost:8080/",
          "height": 461
        }
      },
      "outputs": [
        {
          "output_type": "execute_result",
          "data": {
            "text/plain": [
              "     Unnamed: 0  total_bill   tip  size  sex_Female  sex_Male  smoker_No  \\\n",
              "0             0   16.990000  1.01     2         1.0       0.0        1.0   \n",
              "1             1   21.360195  1.66     3         0.0       1.0        1.0   \n",
              "2             2   21.010000  3.50     3         0.0       1.0        1.0   \n",
              "3             3   23.680000  3.31     2         0.0       1.0        1.0   \n",
              "4             4   24.590000  3.61     4         1.0       0.0        1.0   \n",
              "..          ...         ...   ...   ...         ...       ...        ...   \n",
              "239         239   29.030000  5.92     3         0.0       1.0        1.0   \n",
              "240         240   27.180000  2.00     2         1.0       0.0        0.0   \n",
              "241         241   22.670000  2.00     2         0.0       1.0        0.0   \n",
              "242         242   17.820000  1.75     2         0.0       1.0        1.0   \n",
              "243         243   18.780000  3.00     2         1.0       0.0        1.0   \n",
              "\n",
              "     smoker_Yes  day_Fri  day_Sat  day_Sun  day_Thur  time_Dinner  time_Lunch  \n",
              "0           0.0      0.0      0.0      1.0       0.0          1.0         0.0  \n",
              "1           0.0      0.0      0.0      1.0       0.0          1.0         0.0  \n",
              "2           0.0      0.0      0.0      1.0       0.0          1.0         0.0  \n",
              "3           0.0      0.0      0.0      1.0       0.0          1.0         0.0  \n",
              "4           0.0      0.0      0.0      1.0       0.0          1.0         0.0  \n",
              "..          ...      ...      ...      ...       ...          ...         ...  \n",
              "239         0.0      0.0      1.0      0.0       0.0          1.0         0.0  \n",
              "240         1.0      0.0      1.0      0.0       0.0          1.0         0.0  \n",
              "241         1.0      0.0      1.0      0.0       0.0          1.0         0.0  \n",
              "242         0.0      0.0      1.0      0.0       0.0          1.0         0.0  \n",
              "243         0.0      0.0      0.0      0.0       1.0          1.0         0.0  \n",
              "\n",
              "[244 rows x 14 columns]"
            ],
            "text/html": [
              "\n",
              "  <div id=\"df-cfcdbada-fd95-4d95-9050-5f9496f2d331\" class=\"colab-df-container\">\n",
              "    <div>\n",
              "<style scoped>\n",
              "    .dataframe tbody tr th:only-of-type {\n",
              "        vertical-align: middle;\n",
              "    }\n",
              "\n",
              "    .dataframe tbody tr th {\n",
              "        vertical-align: top;\n",
              "    }\n",
              "\n",
              "    .dataframe thead th {\n",
              "        text-align: right;\n",
              "    }\n",
              "</style>\n",
              "<table border=\"1\" class=\"dataframe\">\n",
              "  <thead>\n",
              "    <tr style=\"text-align: right;\">\n",
              "      <th></th>\n",
              "      <th>Unnamed: 0</th>\n",
              "      <th>total_bill</th>\n",
              "      <th>tip</th>\n",
              "      <th>size</th>\n",
              "      <th>sex_Female</th>\n",
              "      <th>sex_Male</th>\n",
              "      <th>smoker_No</th>\n",
              "      <th>smoker_Yes</th>\n",
              "      <th>day_Fri</th>\n",
              "      <th>day_Sat</th>\n",
              "      <th>day_Sun</th>\n",
              "      <th>day_Thur</th>\n",
              "      <th>time_Dinner</th>\n",
              "      <th>time_Lunch</th>\n",
              "    </tr>\n",
              "  </thead>\n",
              "  <tbody>\n",
              "    <tr>\n",
              "      <th>0</th>\n",
              "      <td>0</td>\n",
              "      <td>16.990000</td>\n",
              "      <td>1.01</td>\n",
              "      <td>2</td>\n",
              "      <td>1.0</td>\n",
              "      <td>0.0</td>\n",
              "      <td>1.0</td>\n",
              "      <td>0.0</td>\n",
              "      <td>0.0</td>\n",
              "      <td>0.0</td>\n",
              "      <td>1.0</td>\n",
              "      <td>0.0</td>\n",
              "      <td>1.0</td>\n",
              "      <td>0.0</td>\n",
              "    </tr>\n",
              "    <tr>\n",
              "      <th>1</th>\n",
              "      <td>1</td>\n",
              "      <td>21.360195</td>\n",
              "      <td>1.66</td>\n",
              "      <td>3</td>\n",
              "      <td>0.0</td>\n",
              "      <td>1.0</td>\n",
              "      <td>1.0</td>\n",
              "      <td>0.0</td>\n",
              "      <td>0.0</td>\n",
              "      <td>0.0</td>\n",
              "      <td>1.0</td>\n",
              "      <td>0.0</td>\n",
              "      <td>1.0</td>\n",
              "      <td>0.0</td>\n",
              "    </tr>\n",
              "    <tr>\n",
              "      <th>2</th>\n",
              "      <td>2</td>\n",
              "      <td>21.010000</td>\n",
              "      <td>3.50</td>\n",
              "      <td>3</td>\n",
              "      <td>0.0</td>\n",
              "      <td>1.0</td>\n",
              "      <td>1.0</td>\n",
              "      <td>0.0</td>\n",
              "      <td>0.0</td>\n",
              "      <td>0.0</td>\n",
              "      <td>1.0</td>\n",
              "      <td>0.0</td>\n",
              "      <td>1.0</td>\n",
              "      <td>0.0</td>\n",
              "    </tr>\n",
              "    <tr>\n",
              "      <th>3</th>\n",
              "      <td>3</td>\n",
              "      <td>23.680000</td>\n",
              "      <td>3.31</td>\n",
              "      <td>2</td>\n",
              "      <td>0.0</td>\n",
              "      <td>1.0</td>\n",
              "      <td>1.0</td>\n",
              "      <td>0.0</td>\n",
              "      <td>0.0</td>\n",
              "      <td>0.0</td>\n",
              "      <td>1.0</td>\n",
              "      <td>0.0</td>\n",
              "      <td>1.0</td>\n",
              "      <td>0.0</td>\n",
              "    </tr>\n",
              "    <tr>\n",
              "      <th>4</th>\n",
              "      <td>4</td>\n",
              "      <td>24.590000</td>\n",
              "      <td>3.61</td>\n",
              "      <td>4</td>\n",
              "      <td>1.0</td>\n",
              "      <td>0.0</td>\n",
              "      <td>1.0</td>\n",
              "      <td>0.0</td>\n",
              "      <td>0.0</td>\n",
              "      <td>0.0</td>\n",
              "      <td>1.0</td>\n",
              "      <td>0.0</td>\n",
              "      <td>1.0</td>\n",
              "      <td>0.0</td>\n",
              "    </tr>\n",
              "    <tr>\n",
              "      <th>...</th>\n",
              "      <td>...</td>\n",
              "      <td>...</td>\n",
              "      <td>...</td>\n",
              "      <td>...</td>\n",
              "      <td>...</td>\n",
              "      <td>...</td>\n",
              "      <td>...</td>\n",
              "      <td>...</td>\n",
              "      <td>...</td>\n",
              "      <td>...</td>\n",
              "      <td>...</td>\n",
              "      <td>...</td>\n",
              "      <td>...</td>\n",
              "      <td>...</td>\n",
              "    </tr>\n",
              "    <tr>\n",
              "      <th>239</th>\n",
              "      <td>239</td>\n",
              "      <td>29.030000</td>\n",
              "      <td>5.92</td>\n",
              "      <td>3</td>\n",
              "      <td>0.0</td>\n",
              "      <td>1.0</td>\n",
              "      <td>1.0</td>\n",
              "      <td>0.0</td>\n",
              "      <td>0.0</td>\n",
              "      <td>1.0</td>\n",
              "      <td>0.0</td>\n",
              "      <td>0.0</td>\n",
              "      <td>1.0</td>\n",
              "      <td>0.0</td>\n",
              "    </tr>\n",
              "    <tr>\n",
              "      <th>240</th>\n",
              "      <td>240</td>\n",
              "      <td>27.180000</td>\n",
              "      <td>2.00</td>\n",
              "      <td>2</td>\n",
              "      <td>1.0</td>\n",
              "      <td>0.0</td>\n",
              "      <td>0.0</td>\n",
              "      <td>1.0</td>\n",
              "      <td>0.0</td>\n",
              "      <td>1.0</td>\n",
              "      <td>0.0</td>\n",
              "      <td>0.0</td>\n",
              "      <td>1.0</td>\n",
              "      <td>0.0</td>\n",
              "    </tr>\n",
              "    <tr>\n",
              "      <th>241</th>\n",
              "      <td>241</td>\n",
              "      <td>22.670000</td>\n",
              "      <td>2.00</td>\n",
              "      <td>2</td>\n",
              "      <td>0.0</td>\n",
              "      <td>1.0</td>\n",
              "      <td>0.0</td>\n",
              "      <td>1.0</td>\n",
              "      <td>0.0</td>\n",
              "      <td>1.0</td>\n",
              "      <td>0.0</td>\n",
              "      <td>0.0</td>\n",
              "      <td>1.0</td>\n",
              "      <td>0.0</td>\n",
              "    </tr>\n",
              "    <tr>\n",
              "      <th>242</th>\n",
              "      <td>242</td>\n",
              "      <td>17.820000</td>\n",
              "      <td>1.75</td>\n",
              "      <td>2</td>\n",
              "      <td>0.0</td>\n",
              "      <td>1.0</td>\n",
              "      <td>1.0</td>\n",
              "      <td>0.0</td>\n",
              "      <td>0.0</td>\n",
              "      <td>1.0</td>\n",
              "      <td>0.0</td>\n",
              "      <td>0.0</td>\n",
              "      <td>1.0</td>\n",
              "      <td>0.0</td>\n",
              "    </tr>\n",
              "    <tr>\n",
              "      <th>243</th>\n",
              "      <td>243</td>\n",
              "      <td>18.780000</td>\n",
              "      <td>3.00</td>\n",
              "      <td>2</td>\n",
              "      <td>1.0</td>\n",
              "      <td>0.0</td>\n",
              "      <td>1.0</td>\n",
              "      <td>0.0</td>\n",
              "      <td>0.0</td>\n",
              "      <td>0.0</td>\n",
              "      <td>0.0</td>\n",
              "      <td>1.0</td>\n",
              "      <td>1.0</td>\n",
              "      <td>0.0</td>\n",
              "    </tr>\n",
              "  </tbody>\n",
              "</table>\n",
              "<p>244 rows × 14 columns</p>\n",
              "</div>\n",
              "    <div class=\"colab-df-buttons\">\n",
              "\n",
              "  <div class=\"colab-df-container\">\n",
              "    <button class=\"colab-df-convert\" onclick=\"convertToInteractive('df-cfcdbada-fd95-4d95-9050-5f9496f2d331')\"\n",
              "            title=\"Convert this dataframe to an interactive table.\"\n",
              "            style=\"display:none;\">\n",
              "\n",
              "  <svg xmlns=\"http://www.w3.org/2000/svg\" height=\"24px\" viewBox=\"0 -960 960 960\">\n",
              "    <path d=\"M120-120v-720h720v720H120Zm60-500h600v-160H180v160Zm220 220h160v-160H400v160Zm0 220h160v-160H400v160ZM180-400h160v-160H180v160Zm440 0h160v-160H620v160ZM180-180h160v-160H180v160Zm440 0h160v-160H620v160Z\"/>\n",
              "  </svg>\n",
              "    </button>\n",
              "\n",
              "  <style>\n",
              "    .colab-df-container {\n",
              "      display:flex;\n",
              "      gap: 12px;\n",
              "    }\n",
              "\n",
              "    .colab-df-convert {\n",
              "      background-color: #E8F0FE;\n",
              "      border: none;\n",
              "      border-radius: 50%;\n",
              "      cursor: pointer;\n",
              "      display: none;\n",
              "      fill: #1967D2;\n",
              "      height: 32px;\n",
              "      padding: 0 0 0 0;\n",
              "      width: 32px;\n",
              "    }\n",
              "\n",
              "    .colab-df-convert:hover {\n",
              "      background-color: #E2EBFA;\n",
              "      box-shadow: 0px 1px 2px rgba(60, 64, 67, 0.3), 0px 1px 3px 1px rgba(60, 64, 67, 0.15);\n",
              "      fill: #174EA6;\n",
              "    }\n",
              "\n",
              "    .colab-df-buttons div {\n",
              "      margin-bottom: 4px;\n",
              "    }\n",
              "\n",
              "    [theme=dark] .colab-df-convert {\n",
              "      background-color: #3B4455;\n",
              "      fill: #D2E3FC;\n",
              "    }\n",
              "\n",
              "    [theme=dark] .colab-df-convert:hover {\n",
              "      background-color: #434B5C;\n",
              "      box-shadow: 0px 1px 3px 1px rgba(0, 0, 0, 0.15);\n",
              "      filter: drop-shadow(0px 1px 2px rgba(0, 0, 0, 0.3));\n",
              "      fill: #FFFFFF;\n",
              "    }\n",
              "  </style>\n",
              "\n",
              "    <script>\n",
              "      const buttonEl =\n",
              "        document.querySelector('#df-cfcdbada-fd95-4d95-9050-5f9496f2d331 button.colab-df-convert');\n",
              "      buttonEl.style.display =\n",
              "        google.colab.kernel.accessAllowed ? 'block' : 'none';\n",
              "\n",
              "      async function convertToInteractive(key) {\n",
              "        const element = document.querySelector('#df-cfcdbada-fd95-4d95-9050-5f9496f2d331');\n",
              "        const dataTable =\n",
              "          await google.colab.kernel.invokeFunction('convertToInteractive',\n",
              "                                                    [key], {});\n",
              "        if (!dataTable) return;\n",
              "\n",
              "        const docLinkHtml = 'Like what you see? Visit the ' +\n",
              "          '<a target=\"_blank\" href=https://colab.research.google.com/notebooks/data_table.ipynb>data table notebook</a>'\n",
              "          + ' to learn more about interactive tables.';\n",
              "        element.innerHTML = '';\n",
              "        dataTable['output_type'] = 'display_data';\n",
              "        await google.colab.output.renderOutput(dataTable, element);\n",
              "        const docLink = document.createElement('div');\n",
              "        docLink.innerHTML = docLinkHtml;\n",
              "        element.appendChild(docLink);\n",
              "      }\n",
              "    </script>\n",
              "  </div>\n",
              "\n",
              "\n",
              "<div id=\"df-fb89ef17-b825-42fc-8bb2-b876f53defbd\">\n",
              "  <button class=\"colab-df-quickchart\" onclick=\"quickchart('df-fb89ef17-b825-42fc-8bb2-b876f53defbd')\"\n",
              "            title=\"Suggest charts\"\n",
              "            style=\"display:none;\">\n",
              "\n",
              "<svg xmlns=\"http://www.w3.org/2000/svg\" height=\"24px\"viewBox=\"0 0 24 24\"\n",
              "     width=\"24px\">\n",
              "    <g>\n",
              "        <path d=\"M19 3H5c-1.1 0-2 .9-2 2v14c0 1.1.9 2 2 2h14c1.1 0 2-.9 2-2V5c0-1.1-.9-2-2-2zM9 17H7v-7h2v7zm4 0h-2V7h2v10zm4 0h-2v-4h2v4z\"/>\n",
              "    </g>\n",
              "</svg>\n",
              "  </button>\n",
              "\n",
              "<style>\n",
              "  .colab-df-quickchart {\n",
              "      --bg-color: #E8F0FE;\n",
              "      --fill-color: #1967D2;\n",
              "      --hover-bg-color: #E2EBFA;\n",
              "      --hover-fill-color: #174EA6;\n",
              "      --disabled-fill-color: #AAA;\n",
              "      --disabled-bg-color: #DDD;\n",
              "  }\n",
              "\n",
              "  [theme=dark] .colab-df-quickchart {\n",
              "      --bg-color: #3B4455;\n",
              "      --fill-color: #D2E3FC;\n",
              "      --hover-bg-color: #434B5C;\n",
              "      --hover-fill-color: #FFFFFF;\n",
              "      --disabled-bg-color: #3B4455;\n",
              "      --disabled-fill-color: #666;\n",
              "  }\n",
              "\n",
              "  .colab-df-quickchart {\n",
              "    background-color: var(--bg-color);\n",
              "    border: none;\n",
              "    border-radius: 50%;\n",
              "    cursor: pointer;\n",
              "    display: none;\n",
              "    fill: var(--fill-color);\n",
              "    height: 32px;\n",
              "    padding: 0;\n",
              "    width: 32px;\n",
              "  }\n",
              "\n",
              "  .colab-df-quickchart:hover {\n",
              "    background-color: var(--hover-bg-color);\n",
              "    box-shadow: 0 1px 2px rgba(60, 64, 67, 0.3), 0 1px 3px 1px rgba(60, 64, 67, 0.15);\n",
              "    fill: var(--button-hover-fill-color);\n",
              "  }\n",
              "\n",
              "  .colab-df-quickchart-complete:disabled,\n",
              "  .colab-df-quickchart-complete:disabled:hover {\n",
              "    background-color: var(--disabled-bg-color);\n",
              "    fill: var(--disabled-fill-color);\n",
              "    box-shadow: none;\n",
              "  }\n",
              "\n",
              "  .colab-df-spinner {\n",
              "    border: 2px solid var(--fill-color);\n",
              "    border-color: transparent;\n",
              "    border-bottom-color: var(--fill-color);\n",
              "    animation:\n",
              "      spin 1s steps(1) infinite;\n",
              "  }\n",
              "\n",
              "  @keyframes spin {\n",
              "    0% {\n",
              "      border-color: transparent;\n",
              "      border-bottom-color: var(--fill-color);\n",
              "      border-left-color: var(--fill-color);\n",
              "    }\n",
              "    20% {\n",
              "      border-color: transparent;\n",
              "      border-left-color: var(--fill-color);\n",
              "      border-top-color: var(--fill-color);\n",
              "    }\n",
              "    30% {\n",
              "      border-color: transparent;\n",
              "      border-left-color: var(--fill-color);\n",
              "      border-top-color: var(--fill-color);\n",
              "      border-right-color: var(--fill-color);\n",
              "    }\n",
              "    40% {\n",
              "      border-color: transparent;\n",
              "      border-right-color: var(--fill-color);\n",
              "      border-top-color: var(--fill-color);\n",
              "    }\n",
              "    60% {\n",
              "      border-color: transparent;\n",
              "      border-right-color: var(--fill-color);\n",
              "    }\n",
              "    80% {\n",
              "      border-color: transparent;\n",
              "      border-right-color: var(--fill-color);\n",
              "      border-bottom-color: var(--fill-color);\n",
              "    }\n",
              "    90% {\n",
              "      border-color: transparent;\n",
              "      border-bottom-color: var(--fill-color);\n",
              "    }\n",
              "  }\n",
              "</style>\n",
              "\n",
              "  <script>\n",
              "    async function quickchart(key) {\n",
              "      const quickchartButtonEl =\n",
              "        document.querySelector('#' + key + ' button');\n",
              "      quickchartButtonEl.disabled = true;  // To prevent multiple clicks.\n",
              "      quickchartButtonEl.classList.add('colab-df-spinner');\n",
              "      try {\n",
              "        const charts = await google.colab.kernel.invokeFunction(\n",
              "            'suggestCharts', [key], {});\n",
              "      } catch (error) {\n",
              "        console.error('Error during call to suggestCharts:', error);\n",
              "      }\n",
              "      quickchartButtonEl.classList.remove('colab-df-spinner');\n",
              "      quickchartButtonEl.classList.add('colab-df-quickchart-complete');\n",
              "    }\n",
              "    (() => {\n",
              "      let quickchartButtonEl =\n",
              "        document.querySelector('#df-fb89ef17-b825-42fc-8bb2-b876f53defbd button');\n",
              "      quickchartButtonEl.style.display =\n",
              "        google.colab.kernel.accessAllowed ? 'block' : 'none';\n",
              "    })();\n",
              "  </script>\n",
              "</div>\n",
              "\n",
              "  <div id=\"id_057c80f4-8693-4bf6-8942-1e000cad2d56\">\n",
              "    <style>\n",
              "      .colab-df-generate {\n",
              "        background-color: #E8F0FE;\n",
              "        border: none;\n",
              "        border-radius: 50%;\n",
              "        cursor: pointer;\n",
              "        display: none;\n",
              "        fill: #1967D2;\n",
              "        height: 32px;\n",
              "        padding: 0 0 0 0;\n",
              "        width: 32px;\n",
              "      }\n",
              "\n",
              "      .colab-df-generate:hover {\n",
              "        background-color: #E2EBFA;\n",
              "        box-shadow: 0px 1px 2px rgba(60, 64, 67, 0.3), 0px 1px 3px 1px rgba(60, 64, 67, 0.15);\n",
              "        fill: #174EA6;\n",
              "      }\n",
              "\n",
              "      [theme=dark] .colab-df-generate {\n",
              "        background-color: #3B4455;\n",
              "        fill: #D2E3FC;\n",
              "      }\n",
              "\n",
              "      [theme=dark] .colab-df-generate:hover {\n",
              "        background-color: #434B5C;\n",
              "        box-shadow: 0px 1px 3px 1px rgba(0, 0, 0, 0.15);\n",
              "        filter: drop-shadow(0px 1px 2px rgba(0, 0, 0, 0.3));\n",
              "        fill: #FFFFFF;\n",
              "      }\n",
              "    </style>\n",
              "    <button class=\"colab-df-generate\" onclick=\"generateWithVariable('final_df')\"\n",
              "            title=\"Generate code using this dataframe.\"\n",
              "            style=\"display:none;\">\n",
              "\n",
              "  <svg xmlns=\"http://www.w3.org/2000/svg\" height=\"24px\"viewBox=\"0 0 24 24\"\n",
              "       width=\"24px\">\n",
              "    <path d=\"M7,19H8.4L18.45,9,17,7.55,7,17.6ZM5,21V16.75L18.45,3.32a2,2,0,0,1,2.83,0l1.4,1.43a1.91,1.91,0,0,1,.58,1.4,1.91,1.91,0,0,1-.58,1.4L9.25,21ZM18.45,9,17,7.55Zm-12,3A5.31,5.31,0,0,0,4.9,8.1,5.31,5.31,0,0,0,1,6.5,5.31,5.31,0,0,0,4.9,4.9,5.31,5.31,0,0,0,6.5,1,5.31,5.31,0,0,0,8.1,4.9,5.31,5.31,0,0,0,12,6.5,5.46,5.46,0,0,0,6.5,12Z\"/>\n",
              "  </svg>\n",
              "    </button>\n",
              "    <script>\n",
              "      (() => {\n",
              "      const buttonEl =\n",
              "        document.querySelector('#id_057c80f4-8693-4bf6-8942-1e000cad2d56 button.colab-df-generate');\n",
              "      buttonEl.style.display =\n",
              "        google.colab.kernel.accessAllowed ? 'block' : 'none';\n",
              "\n",
              "      buttonEl.onclick = () => {\n",
              "        google.colab.notebook.generateWithVariable('final_df');\n",
              "      }\n",
              "      })();\n",
              "    </script>\n",
              "  </div>\n",
              "\n",
              "    </div>\n",
              "  </div>\n"
            ]
          },
          "metadata": {},
          "execution_count": 25
        }
      ],
      "source": [
        "from sklearn.preprocessing import OneHotEncoder\n",
        "\n",
        "categorical_columns = ['sex', 'smoker', 'day', 'time']\n",
        "\n",
        "# Create one-hot encoder object\n",
        "encoder = OneHotEncoder()\n",
        "\n",
        "# Fit encoder to the selected categorical columns\n",
        "encoder.fit(df[categorical_columns])\n",
        "\n",
        "# Transform the selected categorical columns\n",
        "onehot_encoded = encoder.transform(df[categorical_columns])\n",
        "\n",
        "# Convert sparse matrix to array and convert to DataFrame\n",
        "onehot_encoded_df = pd.DataFrame(onehot_encoded.toarray(), columns=encoder.get_feature_names_out(categorical_columns))\n",
        "\n",
        "# Concatenate the one-hot encoded DataFrame with the non-categorical columns\n",
        "final_df = pd.concat([df.drop(columns=categorical_columns), onehot_encoded_df], axis=1)\n",
        "final_df"
      ]
    },
    {
      "cell_type": "markdown",
      "id": "e1d9b9e9",
      "metadata": {
        "id": "e1d9b9e9"
      },
      "source": [
        "### Label Encoding"
      ]
    },
    {
      "cell_type": "markdown",
      "id": "0ea06ae3",
      "metadata": {
        "id": "0ea06ae3"
      },
      "source": [
        "* Ordinal Encoding of Categorical Variables: Label Encoding is a technique used to convert categorical variables into numerical format by assigning a unique integer to each category. Each category is mapped to a different integer, preserving the ordinal information if there is any inherent order among the categories.\n",
        "\n",
        "* Simplicity and Efficiency: Label Encoding is simple to implement and efficient in terms of memory usage and computational cost compared to One-Hot Encoding, especially when dealing with a large number of categories. It can be particularly effective when there is a natural order among the categories, such as ordinal variables like \"low,\" \"medium,\" and \"high.\"\n",
        "\n"
      ]
    },
    {
      "cell_type": "code",
      "execution_count": 26,
      "id": "2eef0df6",
      "metadata": {
        "id": "2eef0df6",
        "outputId": "43ba0ebd-1b69-40ed-c747-aaa45dd9936d",
        "colab": {
          "base_uri": "https://localhost:8080/"
        }
      },
      "outputs": [
        {
          "output_type": "stream",
          "name": "stdout",
          "text": [
            "Original dataset:\n",
            "   Unnamed: 0  total_bill   tip     sex smoker  day    time  size\n",
            "0           0       16.99  1.01  Female     No  Sun  Dinner     2\n",
            "1           1         NaN  1.66    Male     No  Sun  Dinner     3\n",
            "2           2       21.01  3.50    Male     No  Sun  Dinner     3\n",
            "3           3       23.68  3.31    Male     No  Sun  Dinner     2\n",
            "4           4       24.59  3.61  Female     No  Sun  Dinner     4\n",
            "\n",
            "Transformed dataset with Label Encoding:\n",
            "   Unnamed: 0  total_bill   tip     sex smoker  day    time  size  \\\n",
            "0           0       16.99  1.01  Female     No  Sun  Dinner     2   \n",
            "1           1         NaN  1.66    Male     No  Sun  Dinner     3   \n",
            "2           2       21.01  3.50    Male     No  Sun  Dinner     3   \n",
            "3           3       23.68  3.31    Male     No  Sun  Dinner     2   \n",
            "4           4       24.59  3.61  Female     No  Sun  Dinner     4   \n",
            "\n",
            "   sex_label_encoded  smoker_label_encoded  day_label_encoded  \\\n",
            "0                  0                     0                  0   \n",
            "1                  1                     0                  0   \n",
            "2                  1                     0                  0   \n",
            "3                  1                     0                  0   \n",
            "4                  0                     0                  0   \n",
            "\n",
            "   time_label_encoded  \n",
            "0                   0  \n",
            "1                   0  \n",
            "2                   0  \n",
            "3                   0  \n",
            "4                   0  \n"
          ]
        }
      ],
      "source": [
        "import pandas as pd\n",
        "\n",
        "tips_df = pd.read_csv(\"tips.csv\")\n",
        "\n",
        "print(\"Original dataset:\")\n",
        "print(tips_df.head())\n",
        "\n",
        "categorical_cols = ['sex', 'smoker', 'day', 'time']\n",
        "\n",
        "# Label Encoding\n",
        "for col in categorical_cols:\n",
        "    tips_df[col + '_label_encoded'] = pd.factorize(tips_df[col])[0]\n",
        "\n",
        "# Display the transformed dataset\n",
        "print(\"\\nTransformed dataset with Label Encoding:\")\n",
        "print(tips_df.head())\n"
      ]
    },
    {
      "cell_type": "markdown",
      "id": "ef98d048",
      "metadata": {
        "id": "ef98d048"
      },
      "source": [
        "### 3. Perform feature scaling techniques such as min-max normalization, standardization, z-score, on the tips dataset."
      ]
    },
    {
      "cell_type": "markdown",
      "id": "2c6fa079",
      "metadata": {
        "id": "2c6fa079"
      },
      "source": [
        "### MinMax Normilzation"
      ]
    },
    {
      "cell_type": "markdown",
      "id": "e247dfc8",
      "metadata": {
        "id": "e247dfc8"
      },
      "source": [
        "* Normalization to a Fixed Range: Min-Max Scaling, also known as Min-Max Normalization, rescales features to a fixed range, usually between 0 and 1. This is achieved by subtracting the minimum value and dividing by the range (maximum - minimum).\n",
        "\n",
        "* Preserves Relationships and Outliers: Min-Max Scaling preserves the relative relationships between values in the dataset and is less affected by outliers compared to some other scaling methods. However, it may not perform well if the distribution of the data is not uniform or if there are extreme outliers."
      ]
    },
    {
      "cell_type": "markdown",
      "id": "9da1af38",
      "metadata": {
        "id": "9da1af38"
      },
      "source": [
        "###  Standardization (Z-score normalization)"
      ]
    },
    {
      "cell_type": "markdown",
      "id": "2c35f1b8",
      "metadata": {
        "id": "2c35f1b8"
      },
      "source": [
        "* Transformation to a Standard Normal Distribution: Standardization, also known as Z-score normalization, transforms the data to have a mean of 0 and a standard deviation of 1. This is achieved by subtracting the mean and dividing by the standard deviation.\n",
        "\n",
        "* Maintains Shape of the Distribution: Standardization does not bound the data to a specific range like Min-Max Scaling. Instead, it maintains the shape of the distribution of the original data while centering it around the mean and scaling it by the standard deviation. It's robust to outliers since it's based on the mean and standard deviation, which are less affected by extreme values compared to the minimum and maximum."
      ]
    },
    {
      "cell_type": "code",
      "execution_count": 27,
      "id": "64d88ba0",
      "metadata": {
        "scrolled": false,
        "id": "64d88ba0",
        "outputId": "d987e7c4-a7f7-45fe-be72-ea6ac2cbeb19",
        "colab": {
          "base_uri": "https://localhost:8080/"
        }
      },
      "outputs": [
        {
          "output_type": "stream",
          "name": "stdout",
          "text": [
            "   Unnamed: 0  total_bill   tip     sex smoker  day    time  size\n",
            "0           0       16.99  1.01  Female     No  Sun  Dinner     2\n",
            "1           1         NaN  1.66    Male     No  Sun  Dinner     3\n",
            "2           2       21.01  3.50    Male     No  Sun  Dinner     3\n",
            "3           3       23.68  3.31    Male     No  Sun  Dinner     2\n",
            "4           4       24.59  3.61  Female     No  Sun  Dinner     4\n",
            "\n",
            "Min-Max Scaled Data:\n",
            "   total_bill       tip  size\n",
            "0    0.291579  0.001111   0.2\n",
            "1         NaN  0.073333   0.4\n",
            "2    0.375786  0.277778   0.4\n",
            "3    0.431713  0.256667   0.2\n",
            "4    0.450775  0.290000   0.6\n",
            "\n",
            "Standard Scaled Data:\n",
            "   total_bill       tip      size\n",
            "0   -0.494024 -1.439947 -0.600193\n",
            "1         NaN -0.969205  0.453383\n",
            "2   -0.039587  0.363356  0.453383\n",
            "3    0.262240  0.225754 -0.600193\n",
            "4    0.365110  0.443020  1.506958\n",
            "\n",
            "Z-Score Scaled Data:\n",
            "   total_bill       tip      size\n",
            "0   -0.494024 -1.439947 -0.600193\n",
            "1         NaN -0.969205  0.453383\n",
            "2   -0.039587  0.363356  0.453383\n",
            "3    0.262240  0.225754 -0.600193\n",
            "4    0.365110  0.443020  1.506958\n"
          ]
        }
      ],
      "source": [
        "import pandas as pd\n",
        "from sklearn.preprocessing import MinMaxScaler, StandardScaler\n",
        "from sklearn.preprocessing import scale\n",
        "\n",
        "# Load the dataset\n",
        "df = pd.read_csv('tips.csv')\n",
        "\n",
        "# Display the first few rows of the dataset\n",
        "print(df.head())\n",
        "\n",
        "numerical_cols = ['total_bill', 'tip', 'size']\n",
        "numerical_data = df[numerical_cols]\n",
        "\n",
        "min_max_scaler = MinMaxScaler()\n",
        "min_max_scaled_data = min_max_scaler.fit_transform(numerical_data)\n",
        "\n",
        "standard_scaler = StandardScaler()\n",
        "standard_scaled_data = standard_scaler.fit_transform(numerical_data)\n",
        "\n",
        "z_score_scaled_data = scale(numerical_data)\n",
        "\n",
        "min_max_scaled_df = pd.DataFrame(min_max_scaled_data, columns=numerical_cols)\n",
        "standard_scaled_df = pd.DataFrame(standard_scaled_data, columns=numerical_cols)\n",
        "z_score_scaled_df = pd.DataFrame(z_score_scaled_data, columns=numerical_cols)\n",
        "\n",
        "print(\"\\nMin-Max Scaled Data:\")\n",
        "print(min_max_scaled_df.head())\n",
        "\n",
        "print(\"\\nStandard Scaled Data:\")\n",
        "print(standard_scaled_df.head())\n",
        "\n",
        "print(\"\\nZ-Score Scaled Data:\")\n",
        "print(z_score_scaled_df.head())"
      ]
    },
    {
      "cell_type": "code",
      "execution_count": 38,
      "id": "ab3e4c8d",
      "metadata": {
        "id": "ab3e4c8d",
        "outputId": "4d6b2c49-984a-43d9-c0a5-e3e414811b1a",
        "colab": {
          "base_uri": "https://localhost:8080/",
          "height": 349
        }
      },
      "outputs": [
        {
          "output_type": "display_data",
          "data": {
            "text/plain": [
              "<Figure size 1200x600 with 4 Axes>"
            ],
            "image/png": "[encoded data removed]"
          },
          "metadata": {}
        }
      ],
      "source": [
        "\n",
        "import matplotlib.pyplot as plt\n",
        "\n",
        "# Plot histograms for original and scaled features\n",
        "plt.figure(figsize=(12, 6))\n",
        "\n",
        "# Original features\n",
        "plt.subplot(2, 2, 1)\n",
        "plt.hist(tips_df['total_bill'], bins=20, color='blue', alpha=0.7)\n",
        "plt.title('Original Total Bill')\n",
        "plt.xlabel('Total Bill')\n",
        "plt.ylabel('Frequency')\n",
        "\n",
        "plt.subplot(2, 2, 2)\n",
        "plt.hist(tips_df['tip'], bins=20, color='green', alpha=0.7)\n",
        "plt.title('Original Tip')\n",
        "plt.xlabel('Tip')\n",
        "plt.ylabel('Frequency')\n",
        "\n",
        "# Scaled features\n",
        "plt.subplot(2, 2, 3)\n",
        "plt.hist(tips_df['total_bill'], bins=20, color='red', alpha=0.7)\n",
        "plt.title('Min-Max Scaled Total Bill')\n",
        "plt.xlabel('Total Bill (Min-Max Scaled)')\n",
        "plt.ylabel('Frequency')\n",
        "\n",
        "plt.subplot(2, 2, 4)\n",
        "plt.hist(tips_df['tip'], bins=20, color='orange', alpha=0.7)\n",
        "plt.title('Standardized Tip')\n",
        "plt.xlabel('Tip (Standardized)')\n",
        "plt.ylabel('Frequency')\n",
        "\n",
        "plt.tight_layout()\n",
        "plt.show()\n"
      ]
    },
    {
      "cell_type": "markdown",
      "id": "86309a8d",
      "metadata": {
        "id": "86309a8d"
      },
      "source": [
        "### 4.Create a new feature representing the average tip percentage for each dining party size."
      ]
    },
    {
      "cell_type": "code",
      "execution_count": 30,
      "id": "5322a81e",
      "metadata": {
        "id": "5322a81e",
        "outputId": "10b53104-d50d-472b-fbb2-efb2f705734c",
        "colab": {
          "base_uri": "https://localhost:8080/"
        }
      },
      "outputs": [
        {
          "output_type": "stream",
          "name": "stdout",
          "text": [
            "Updated tips dataset with average tip percentage by party size:\n",
            "   Unnamed: 0  total_bill   tip     sex smoker  day    time  size  \\\n",
            "0           0       16.99  1.01  Female     No  Sun  Dinner     2   \n",
            "1           1         NaN  1.66    Male     No  Sun  Dinner     3   \n",
            "2           2       21.01  3.50    Male     No  Sun  Dinner     3   \n",
            "3           3       23.68  3.31    Male     No  Sun  Dinner     2   \n",
            "4           4       24.59  3.61  Female     No  Sun  Dinner     4   \n",
            "\n",
            "   tip_percentage  avg_tip_percentage  \n",
            "0        5.944673           16.587698  \n",
            "1             NaN           15.165983  \n",
            "2       16.658734           15.165983  \n",
            "3       13.978041           16.587698  \n",
            "4       14.680765           14.594901  \n"
          ]
        }
      ],
      "source": [
        "import pandas as pd\n",
        "\n",
        "# Read the dataset from CSV\n",
        "tips_df = pd.read_csv(\"tips.csv\")\n",
        "\n",
        "# Calculate tip percentage\n",
        "tips_df['tip_percentage'] = (tips_df['tip'] / tips_df['total_bill']) * 100\n",
        "\n",
        "# Calculate average tip percentage for each party size\n",
        "average_tip_percentage_by_party_size = tips_df.groupby('size')['tip_percentage'].mean().reset_index()\n",
        "average_tip_percentage_by_party_size.rename(columns={'tip_percentage': 'avg_tip_percentage'}, inplace=True)\n",
        "\n",
        "# Merge the average tip percentage back into the original dataframe\n",
        "tips_df = pd.merge(tips_df, average_tip_percentage_by_party_size, on='size', how='left')\n",
        "\n",
        "# Display the updated dataset\n",
        "print(\"Updated tips dataset with average tip percentage by party size:\")\n",
        "print(tips_df.head())\n"
      ]
    },
    {
      "cell_type": "markdown",
      "id": "9acfab9f",
      "metadata": {
        "id": "9acfab9f"
      },
      "source": [
        "### 5.Create a new feature based on total bill and tips if total bill is greater than 10$\n",
        "\n",
        "### and tips is greaterthan 3$ mark as Highest-bills-with-tips otherwise Normal-bills"
      ]
    },
    {
      "cell_type": "code",
      "execution_count": 31,
      "id": "2c9cf1cc",
      "metadata": {
        "id": "2c9cf1cc",
        "outputId": "75e698d9-cf87-4123-bdde-65d6ac770a3f",
        "colab": {
          "base_uri": "https://localhost:8080/"
        }
      },
      "outputs": [
        {
          "output_type": "stream",
          "name": "stdout",
          "text": [
            "Updated tips dataset with bill type:\n",
            "   Unnamed: 0  total_bill   tip     sex smoker  day    time  size  \\\n",
            "0           0       16.99  1.01  Female     No  Sun  Dinner     2   \n",
            "1           1         NaN  1.66    Male     No  Sun  Dinner     3   \n",
            "2           2       21.01  3.50    Male     No  Sun  Dinner     3   \n",
            "3           3       23.68  3.31    Male     No  Sun  Dinner     2   \n",
            "4           4       24.59  3.61  Female     No  Sun  Dinner     4   \n",
            "\n",
            "                 bill_type  \n",
            "0             Normal-bills  \n",
            "1             Normal-bills  \n",
            "2  Highest-bills-with-tips  \n",
            "3  Highest-bills-with-tips  \n",
            "4  Highest-bills-with-tips  \n"
          ]
        }
      ],
      "source": [
        "import pandas as pd\n",
        "\n",
        "# Read the dataset from CSV\n",
        "tips_df = pd.read_csv(\"tips.csv\")\n",
        "\n",
        "# Create a new feature based on total bill and tips\n",
        "tips_df['bill_type'] = 'Normal-bills'\n",
        "tips_df.loc[(tips_df['total_bill'] > 10) & (tips_df['tip'] > 3), 'bill_type'] = 'Highest-bills-with-tips'\n",
        "\n",
        "# Display the updated dataset\n",
        "print(\"Updated tips dataset with bill type:\")\n",
        "print(tips_df.head())\n"
      ]
    },
    {
      "cell_type": "code",
      "execution_count": null,
      "id": "4b8d6353",
      "metadata": {
        "id": "4b8d6353"
      },
      "outputs": [],
      "source": []
    }
  ],
  "metadata": {
    "kernelspec": {
      "display_name": "Python 3 (ipykernel)",
      "language": "python",
      "name": "python3"
    },
    "language_info": {
      "codemirror_mode": {
        "name": "ipython",
        "version": 3
      },
      "file_extension": ".py",
      "mimetype": "text/x-python",
      "name": "python",
      "nbconvert_exporter": "python",
      "pygments_lexer": "ipython3",
      "version": "3.10.9"
    },
    "colab": {
      "provenance": [],
      "include_colab_link": true
    }
  },
  "nbformat": 4,
  "nbformat_minor": 5
}
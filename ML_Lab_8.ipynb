{
  "cells": [
    {
      "cell_type": "markdown",
      "metadata": {
        "id": "view-in-github",
        "colab_type": "text"
      },
      "source": [
        "<a href=\"https://colab.research.google.com/github/akashmeruva9/Machine-Learning/blob/main/ML_Lab_8.ipynb\" target=\"_parent\"><img src=\"https://colab.research.google.com/assets/colab-badge.svg\" alt=\"Open In Colab\"/></a>"
      ]
    },
    {
      "cell_type": "markdown",
      "id": "deeec775",
      "metadata": {
        "id": "deeec775"
      },
      "source": [
        "### Distance and Distance Matrix [20-03-2024]"
      ]
    },
    {
      "cell_type": "markdown",
      "id": "a8517e95",
      "metadata": {
        "id": "a8517e95"
      },
      "source": [
        "### 1.Take two 3D coordinates from the user. Find out the distance between these pointsusing following distance functions. x and y are vectors representing the coordinates of two points. Here, k=3"
      ]
    },
    {
      "cell_type": "code",
      "execution_count": 2,
      "id": "04a7c717",
      "metadata": {
        "colab": {
          "base_uri": "https://localhost:8080/"
        },
        "id": "04a7c717",
        "outputId": "06dc1734-627f-4be1-d6f0-21cefb20b685"
      },
      "outputs": [
        {
          "output_type": "stream",
          "name": "stdout",
          "text": [
            "Enter the first  coordinate : 1 2 3\n",
            "Invalid input. Generating random coordinates.\n",
            "First 3D Coordinate: [0.36995735 0.72688205 0.33091892]\n",
            "Second 3D Coordinate: [0.92195653 0.43913554 0.45931087]\n",
            "Euclidean Distance: 0.6355986478519714\n",
            "Manhattan Distance: 0.968137641489964\n",
            "Minkowski Distance (k=3): 0.5790324576384666\n"
          ]
        }
      ],
      "source": [
        "import numpy as np\n",
        "\n",
        "# Function to calculate Euclidean distance\n",
        "def euclidean_distance(x, y):\n",
        "    return np.linalg.norm(x - y)\n",
        "\n",
        "# Function to calculate Manhattan distance\n",
        "def manhattan_distance(x, y):\n",
        "    return np.sum(np.abs(x - y))\n",
        "\n",
        "# Function to calculate Minkowski distance\n",
        "def minkowski_distance(x, y, k):\n",
        "    return np.power(np.sum(np.power(np.abs(x - y), k)), 1/k)\n",
        "\n",
        "# Get input coordinates from the user or generate random coordinates\n",
        "try:\n",
        "    x = np.array(list(map(float, input(\"Enter the first  coordinate : \").split(','))))\n",
        "    y = np.array(list(map(float, input(\"Enter the second  coordinate: \").split(','))))\n",
        "except ValueError:\n",
        "    print(\"Invalid input. Generating random coordinates.\")\n",
        "    x = np.random.rand(3)\n",
        "    y = np.random.rand(3)\n",
        "\n",
        "# Calculate distances using different distance functions\n",
        "euclidean_dist = euclidean_distance(x, y)\n",
        "manhattan_dist = manhattan_distance(x, y)\n",
        "minkowski_dist = minkowski_distance(x, y, 3)\n",
        "\n",
        "# Print the coordinates and distances\n",
        "print(f\"First 3D Coordinate: {x}\")\n",
        "print(f\"Second 3D Coordinate: {y}\")\n",
        "print(f\"Euclidean Distance: {euclidean_dist}\")\n",
        "print(f\"Manhattan Distance: {manhattan_dist}\")\n",
        "print(f\"Minkowski Distance (k=3): {minkowski_dist}\")"
      ]
    },
    {
      "cell_type": "markdown",
      "id": "8f1cf17a",
      "metadata": {
        "id": "8f1cf17a"
      },
      "source": [
        "### 2.Import the Iris dataset. Write a program to obtain the Euclidian Distance Matrix for all the data samples in the feature space. Distance metric is a 2D array, where the(i,j)th entry represents the distance between the ith and jth sample points in the feature space."
      ]
    },
    {
      "cell_type": "code",
      "execution_count": 3,
      "id": "3a42d2a5",
      "metadata": {
        "colab": {
          "base_uri": "https://localhost:8080/"
        },
        "id": "3a42d2a5",
        "outputId": "28d9779e-2399-4f26-dd22-c9909d356734"
      },
      "outputs": [
        {
          "output_type": "stream",
          "name": "stdout",
          "text": [
            "Euclidean Distance Matrix:\n",
            "[[0.         0.53851648 0.50990195 ... 4.45982062 4.65080638 4.14004831]\n",
            " [0.53851648 0.         0.3        ... 4.49888875 4.71805044 4.15331193]\n",
            " [0.50990195 0.3        0.         ... 4.66154481 4.84871117 4.29883705]\n",
            " ...\n",
            " [4.45982062 4.49888875 4.66154481 ... 0.         0.6164414  0.64031242]\n",
            " [4.65080638 4.71805044 4.84871117 ... 0.6164414  0.         0.76811457]\n",
            " [4.14004831 4.15331193 4.29883705 ... 0.64031242 0.76811457 0.        ]]\n"
          ]
        }
      ],
      "source": [
        "import numpy as np\n",
        "from sklearn.datasets import load_iris\n",
        "\n",
        "# Load the Iris dataset\n",
        "iris = load_iris()\n",
        "X = iris.data\n",
        "\n",
        "# Function to calculate Euclidean distance between two points\n",
        "def euclidean_distance(x, y):\n",
        "    return np.sqrt(np.sum((x - y)**2))\n",
        "\n",
        "# Calculate the number of samples\n",
        "n_samples = X.shape[0]\n",
        "\n",
        "# Initialize the Euclidean Distance Matrix\n",
        "dist_matrix = np.zeros((n_samples, n_samples))\n",
        "\n",
        "# Calculate the Euclidean Distance Matrix\n",
        "for i in range(n_samples):\n",
        "    for j in range(n_samples):\n",
        "        dist_matrix[i, j] = euclidean_distance(X[i], X[j])\n",
        "\n",
        "# Print the Euclidean Distance Matrix\n",
        "print(\"Euclidean Distance Matrix:\")\n",
        "print(dist_matrix)"
      ]
    },
    {
      "cell_type": "markdown",
      "id": "f31e3458",
      "metadata": {
        "id": "f31e3458"
      },
      "source": [
        "### 3.Import the Iris dataset. Prepare a dataset considering samples belong to any two output classes. Draw the scatter plot for all the samples in the new dataset considering any two input attributes. Examine the scatter plot to find the equation of a line that can separate sample of two classes."
      ]
    },
    {
      "cell_type": "code",
      "execution_count": 4,
      "id": "fd12cc01",
      "metadata": {
        "colab": {
          "base_uri": "https://localhost:8080/",
          "height": 564
        },
        "id": "fd12cc01",
        "outputId": "41c94955-4e3e-41f6-efa7-7c1e78c62c4c"
      },
      "outputs": [
        {
          "output_type": "display_data",
          "data": {
            "text/plain": [
              "<Figure size 800x600 with 1 Axes>"
            ],
            "image/png": "[encoded data removed]"
          },
          "metadata": {}
        }
      ],
      "source": [
        "import matplotlib.pyplot as plt\n",
        "from sklearn.datasets import load_iris\n",
        "import pandas as pd\n",
        "\n",
        "# Load the Iris dataset\n",
        "iris = load_iris()\n",
        "X = iris.data\n",
        "y = iris.target\n",
        "\n",
        "# Select two classes (e.g., classes 0 and 1)\n",
        "class_1 = 0\n",
        "class_2 = 1\n",
        "\n",
        "# Create a new dataset with samples belonging to the selected classes\n",
        "selected_indices = np.where((y == class_1) | (y == class_2))[0]\n",
        "X_selected = X[selected_indices]\n",
        "y_selected = y[selected_indices]\n",
        "\n",
        "# Select any two input attributes (features)\n",
        "feature1_index = 0  # Choose the first feature (e.g., sepal length)\n",
        "feature2_index = 2  # Choose the second feature (e.g., petal length)\n",
        "\n",
        "# Create a DataFrame for easy plotting\n",
        "df = pd.DataFrame(X_selected, columns=iris.feature_names)\n",
        "df['target'] = y_selected\n",
        "\n",
        "# Plot the scatter plot\n",
        "plt.figure(figsize=(8, 6))\n",
        "plt.scatter(df[df['target'] == class_1].iloc[:, feature1_index],\n",
        "            df[df['target'] == class_1].iloc[:, feature2_index],\n",
        "            color='red', label=f'Class {class_1}')\n",
        "plt.scatter(df[df['target'] == class_2].iloc[:, feature1_index],\n",
        "            df[df['target'] == class_2].iloc[:, feature2_index],\n",
        "            color='blue', label=f'Class {class_2}')\n",
        "plt.xlabel(iris.feature_names[feature1_index])\n",
        "plt.ylabel(iris.feature_names[feature2_index])\n",
        "plt.title(f'Scatter Plot of Iris Dataset (Classes {class_1} and {class_2})')\n",
        "plt.legend()\n",
        "plt.grid(True)\n",
        "plt.show()\n"
      ]
    },
    {
      "cell_type": "code",
      "execution_count": null,
      "id": "8e023d26",
      "metadata": {
        "id": "8e023d26"
      },
      "outputs": [],
      "source": []
    }
  ],
  "metadata": {
    "kernelspec": {
      "display_name": "Python 3 (ipykernel)",
      "language": "python",
      "name": "python3"
    },
    "language_info": {
      "codemirror_mode": {
        "name": "ipython",
        "version": 3
      },
      "file_extension": ".py",
      "mimetype": "text/x-python",
      "name": "python",
      "nbconvert_exporter": "python",
      "pygments_lexer": "ipython3",
      "version": "3.10.9"
    },
    "colab": {
      "provenance": [],
      "include_colab_link": true
    }
  },
  "nbformat": 4,
  "nbformat_minor": 5
}